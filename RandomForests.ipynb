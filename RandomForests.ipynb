{
 "cells": [
  {
   "cell_type": "code",
   "execution_count": 1,
   "metadata": {
    "collapsed": true
   },
   "outputs": [],
   "source": [
    "import numpy as np\n",
    "import matplotlib.pyplot as plt\n",
    "import pandas as pd\n",
    "from sklearn.model_selection import train_test_split\n",
    "from sklearn import discriminant_analysis\n",
    "%matplotlib inline\n",
    "data = pd.read_csv('numeric sequence.csv', sep = ',', engine = 'python')\n",
    "processed_data = data\n",
    "for i in range (1, 15):\n",
    "     processed_data['feature'+str(i)] = data['feature'+str(i*2-1)]*2 + data['feature'+str(i*2)]\n",
    "to_drop=[]\n",
    "for i in range (15, 29):\n",
    "    to_drop.append('feature'+str(i)) \n",
    "data = processed_data\n",
    "X, X_test, y, y_test = train_test_split(data.drop('label', axis=1), data['label'], test_size = 0.33, \n",
    "                                                    random_state = 2)"
   ]
  },
  {
   "cell_type": "markdown",
   "metadata": {},
   "source": [
    "# Random Forest Regressor"
   ]
  },
  {
   "cell_type": "code",
   "execution_count": 2,
   "metadata": {},
   "outputs": [
    {
     "data": {
      "text/plain": [
       "RandomForestRegressor(bootstrap=True, criterion='mse', max_depth=None,\n",
       "           max_features='auto', max_leaf_nodes=None,\n",
       "           min_impurity_decrease=0.0, min_impurity_split=None,\n",
       "           min_samples_leaf=1, min_samples_split=2,\n",
       "           min_weight_fraction_leaf=0.0, n_estimators=50, n_jobs=1,\n",
       "           oob_score=False, random_state=None, verbose=0, warm_start=False)"
      ]
     },
     "execution_count": 2,
     "metadata": {},
     "output_type": "execute_result"
    }
   ],
   "source": [
    "from sklearn import ensemble\n",
    "rf_model = ensemble.RandomForestRegressor(n_estimators = 50)\n",
    "rf_model.fit(X, y)"
   ]
  },
  {
   "cell_type": "code",
   "execution_count": 3,
   "metadata": {},
   "outputs": [
    {
     "name": "stdout",
     "output_type": "stream",
     "text": [
      "0.791666666667\n",
      "0.882575757576\n"
     ]
    }
   ],
   "source": [
    "print(np.mean(rf_model.predict(X) != y))\n",
    "print(np.mean(rf_model.predict(X_test) != y_test))\n",
    "from sklearn.model_selection import GridSearchCV"
   ]
  },
  {
   "cell_type": "markdown",
   "metadata": {},
   "source": [
    "## Зависимость ошибок от количества деревьев"
   ]
  },
  {
   "cell_type": "code",
   "execution_count": 9,
   "metadata": {},
   "outputs": [
    {
     "name": "stdout",
     "output_type": "stream",
     "text": [
      "0.465850402289\n",
      "87\n"
     ]
    }
   ],
   "source": [
    "from sklearn.model_selection import GridSearchCV\n",
    "est_number = np.arange(1, 100)\n",
    "rf_model = ensemble.RandomForestRegressor()\n",
    "grid = GridSearchCV(rf_model, param_grid = {'n_estimators': est_number})\n",
    "grid.fit(X, y)\n",
    "min_err_cv = 1 - grid.best_score_\n",
    "argmin_err_cv = grid.best_estimator_.n_estimators\n",
    "print(min_err_cv)\n",
    "print(argmin_err_cv)"
   ]
  },
  {
   "cell_type": "code",
   "execution_count": 10,
   "metadata": {},
   "outputs": [
    {
     "data": {
      "text/plain": [
       "<matplotlib.collections.PathCollection at 0x1c1e9703748>"
      ]
     },
     "execution_count": 10,
     "metadata": {},
     "output_type": "execute_result"
    },
    {
     "data": {
      "image/png": "[encoded data removed]",
      "text/plain": [
       "<matplotlib.figure.Figure at 0x1c1e91f3240>"
      ]
     },
     "metadata": {},
     "output_type": "display_data"
    }
   ],
   "source": [
    "score = 1 - np.array([i for i in grid.cv_results_['mean_test_score']])\n",
    "depth = np.array([i['n_estimators'] for i in grid.cv_results_['params']])\n",
    "plt.scatter(depth, score)"
   ]
  }
 ],
 "metadata": {
  "kernelspec": {
   "display_name": "Python 3",
   "language": "python",
   "name": "python3"
  },
  "language_info": {
   "codemirror_mode": {
    "name": "ipython",
    "version": 3
   },
   "file_extension": ".py",
   "mimetype": "text/x-python",
   "name": "python",
   "nbconvert_exporter": "python",
   "pygments_lexer": "ipython3",
   "version": "3.6.1"
  }
 },
 "nbformat": 4,
 "nbformat_minor": 2
}
