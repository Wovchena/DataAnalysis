{
 "cells": [
  {
   "cell_type": "markdown",
   "metadata": {},
   "source": [
    "# Считываем данные и рпзбиваем на тестовую и тренеровнчную выборки"
   ]
  },
  {
   "cell_type": "code",
   "execution_count": 2,
   "metadata": {
    "collapsed": true
   },
   "outputs": [],
   "source": [
    "import numpy as np\n",
    "import matplotlib.pyplot as plt\n",
    "import pandas as pd\n",
    "from sklearn.model_selection import train_test_split\n",
    "from sklearn import discriminant_analysis\n",
    "%matplotlib inline\n",
    "data = pd.read_csv('numeric sequence.csv', sep = ',', engine = 'python')\n",
    "processed_data = data\n",
    "for i in range (1, 15):\n",
    "     processed_data['feature'+str(i)] = data['feature'+str(i*2-1)]*2 + data['feature'+str(i*2)]\n",
    "to_drop=[]\n",
    "for i in range (15, 29):\n",
    "    to_drop.append('feature'+str(i)) \n",
    "processed_data = processed_data.drop(to_drop, 1).drop('label', 1)\n",
    "processed_data = processed_data.replace(0, 'A')\\\n",
    "                              .replace(1, 'T')\\\n",
    "                              .replace(2, 'C')\\\n",
    "                              .replace(3, 'G')\n",
    "processed_data = pd.get_dummies(processed_data)\n",
    "processed_data=pd.concat((processed_data, data['label']), axis = 1)\n",
    "data = processed_data\n",
    "X, X_test, y, y_test = train_test_split(data.drop('label', axis=1), data['label'], test_size = 0.33, \n",
    "                                                    random_state = 2)"
   ]
  },
  {
   "cell_type": "markdown",
   "metadata": {
    "collapsed": true
   },
   "source": [
    "# Машина опорных векторов"
   ]
  },
  {
   "cell_type": "code",
   "execution_count": 3,
   "metadata": {},
   "outputs": [
    {
     "data": {
      "text/plain": [
       "SVC(C=1, cache_size=200, class_weight=None, coef0=0.0,\n",
       "  decision_function_shape='ovr', degree=3, gamma='auto', kernel='linear',\n",
       "  max_iter=-1, probability=False, random_state=None, shrinking=True,\n",
       "  tol=0.001, verbose=False)"
      ]
     },
     "execution_count": 3,
     "metadata": {},
     "output_type": "execute_result"
    }
   ],
   "source": [
    "from sklearn.svm import SVC # \"Support Vector Classifier\"\n",
    "svc_model = SVC(kernel = 'linear', C = 1)\n",
    "svc_model.fit(X, y)"
   ]
  },
  {
   "cell_type": "code",
   "execution_count": 4,
   "metadata": {},
   "outputs": [
    {
     "name": "stdout",
     "output_type": "stream",
     "text": [
      "0.133084577114 0.15404040404\n"
     ]
    }
   ],
   "source": [
    "err_train = np.mean(y != svc_model.predict(X)) # Ошибка на обучающей выборке\n",
    "err_test = np.mean(y_test != svc_model.predict(X_test)) # Ошибка на тестовой выборке\n",
    "print (err_train, err_test)"
   ]
  },
  {
   "cell_type": "markdown",
   "metadata": {},
   "source": [
    "## Поподбираем параметры"
   ]
  },
  {
   "cell_type": "code",
   "execution_count": 5,
   "metadata": {},
   "outputs": [
    {
     "name": "stdout",
     "output_type": "stream",
     "text": [
      "0.133706467662 0.155303030303\n"
     ]
    }
   ],
   "source": [
    "svc_model = SVC(kernel = 'linear', C = 5)\n",
    "svc_model.fit(X, y)\n",
    "print (np.mean(y != svc_model.predict(X)), np.mean(y_test != svc_model.predict(X_test)))"
   ]
  },
  {
   "cell_type": "code",
   "execution_count": 6,
   "metadata": {},
   "outputs": [
    {
     "name": "stdout",
     "output_type": "stream",
     "text": [
      "0.133706467662 0.155303030303\n"
     ]
    }
   ],
   "source": [
    "svc_model = SVC(kernel = 'linear', C = 500)\n",
    "svc_model.fit(X, y)\n",
    "print (np.mean(y != svc_model.predict(X)), np.mean(y_test != svc_model.predict(X_test)))"
   ]
  },
  {
   "cell_type": "code",
   "execution_count": 7,
   "metadata": {},
   "outputs": [
    {
     "name": "stdout",
     "output_type": "stream",
     "text": [
      "0.0957711442786 0.14898989899\n"
     ]
    }
   ],
   "source": [
    "svc_model = SVC(kernel = 'rbf', C = 5)\n",
    "svc_model.fit(X, y)\n",
    "print (np.mean(y != svc_model.predict(X)), np.mean(y_test != svc_model.predict(X_test)))"
   ]
  },
  {
   "cell_type": "code",
   "execution_count": 8,
   "metadata": {},
   "outputs": [
    {
     "name": "stdout",
     "output_type": "stream",
     "text": [
      "0.0752487562189 0.152777777778\n"
     ]
    }
   ],
   "source": [
    "svc_model = SVC(kernel = 'rbf', C = 10)\n",
    "svc_model.fit(X, y)\n",
    "print (np.mean(y != svc_model.predict(X)), np.mean(y_test != svc_model.predict(X_test)))"
   ]
  },
  {
   "cell_type": "code",
   "execution_count": 9,
   "metadata": {},
   "outputs": [
    {
     "name": "stdout",
     "output_type": "stream",
     "text": [
      "0.144278606965 0.150252525253\n"
     ]
    }
   ],
   "source": [
    "svc_model = SVC(kernel = 'poly', C = 1)\n",
    "svc_model.fit(X, y)\n",
    "print (np.mean(y != svc_model.predict(X)), np.mean(y_test != svc_model.predict(X_test)))"
   ]
  },
  {
   "cell_type": "code",
   "execution_count": 10,
   "metadata": {},
   "outputs": [
    {
     "name": "stdout",
     "output_type": "stream",
     "text": [
      "0.13868159204 0.146464646465\n"
     ]
    }
   ],
   "source": [
    "svc_model = SVC(kernel = 'poly', C = 5)\n",
    "svc_model.fit(X, y)\n",
    "print (np.mean(y != svc_model.predict(X)), np.mean(y_test != svc_model.predict(X_test)))"
   ]
  },
  {
   "cell_type": "code",
   "execution_count": 11,
   "metadata": {},
   "outputs": [
    {
     "name": "stdout",
     "output_type": "stream",
     "text": [
      "0.139303482587 0.160353535354\n"
     ]
    }
   ],
   "source": [
    "svc_model = SVC(kernel = 'sigmoid', C = 1)\n",
    "svc_model.fit(X, y)\n",
    "print (np.mean(y != svc_model.predict(X)), np.mean(y_test != svc_model.predict(X_test)))"
   ]
  },
  {
   "cell_type": "code",
   "execution_count": 12,
   "metadata": {},
   "outputs": [
    {
     "name": "stdout",
     "output_type": "stream",
     "text": [
      "0.139303482587 0.151515151515\n"
     ]
    }
   ],
   "source": [
    "svc_model = SVC(kernel = 'sigmoid', C = 5)\n",
    "svc_model.fit(X, y)\n",
    "print (np.mean(y != svc_model.predict(X)), np.mean(y_test != svc_model.predict(X_test)))"
   ]
  },
  {
   "cell_type": "markdown",
   "metadata": {},
   "source": [
    "Понравился результат с полигональным ядрои и C = 5"
   ]
  },
  {
   "cell_type": "code",
   "execution_count": 13,
   "metadata": {},
   "outputs": [
    {
     "name": "stdout",
     "output_type": "stream",
     "text": [
      "1\n",
      "0.144278606965 0.150252525253\n",
      "3\n",
      "0.156094527363 0.162878787879\n",
      "5\n",
      "0.13868159204 0.146464646465\n",
      "7\n",
      "0.129975124378 0.142676767677\n",
      "9\n",
      "0.120646766169 0.142676767677\n",
      "11\n",
      "0.111940298507 0.140151515152\n",
      "13\n",
      "0.103855721393 0.137626262626\n",
      "15\n",
      "0.0957711442786 0.137626262626\n",
      "17\n",
      "0.0889303482587 0.136363636364\n",
      "19\n",
      "0.0827114427861 0.138888888889\n",
      "21\n",
      "0.080223880597 0.136363636364\n",
      "23\n",
      "0.0758706467662 0.136363636364\n",
      "25\n",
      "0.0746268656716 0.136363636364\n",
      "27\n",
      "0.0708955223881 0.136363636364\n",
      "29\n",
      "0.0640547263682 0.132575757576\n",
      "31\n",
      "0.0615671641791 0.132575757576\n",
      "33\n",
      "0.0597014925373 0.133838383838\n",
      "35\n",
      "0.0584577114428 0.138888888889\n",
      "37\n",
      "0.0572139303483 0.142676767677\n",
      "39\n",
      "0.0541044776119 0.141414141414\n",
      "41\n",
      "0.0528606965174 0.143939393939\n",
      "43\n",
      "0.0485074626866 0.143939393939\n",
      "45\n",
      "0.0478855721393 0.143939393939\n",
      "47\n",
      "0.0460199004975 0.142676767677\n",
      "49\n",
      "0.0435323383085 0.142676767677\n"
     ]
    }
   ],
   "source": [
    "for i in range (1, 50 ,2):\n",
    "    svc_model = SVC(kernel = 'poly', C = i)\n",
    "    svc_model.fit(X, y)\n",
    "    print(i)\n",
    "    print (np.mean(y != svc_model.predict(X)), np.mean(y_test != svc_model.predict(X_test)))\n",
    "    "
   ]
  },
  {
   "cell_type": "markdown",
   "metadata": {},
   "source": [
    "Еще лучше при C=29"
   ]
  },
  {
   "cell_type": "code",
   "execution_count": 14,
   "metadata": {},
   "outputs": [
    {
     "data": {
      "text/plain": [
       "SVC(C=29, cache_size=200, class_weight=None, coef0=0.0,\n",
       "  decision_function_shape='ovr', degree=3, gamma='auto', kernel='poly',\n",
       "  max_iter=-1, probability=False, random_state=None, shrinking=True,\n",
       "  tol=0.001, verbose=False)"
      ]
     },
     "execution_count": 14,
     "metadata": {},
     "output_type": "execute_result"
    }
   ],
   "source": [
    "svc_model = SVC(kernel = 'poly', C = 29)\n",
    "svc_model.fit(X, y)"
   ]
  },
  {
   "cell_type": "markdown",
   "metadata": {},
   "source": [
    "$\n",
    "\\begin{array}{|c|c|}\n",
    "\\hline\n",
    "{\\rm TN} & {\\rm FN} \\\\\n",
    "\\hline\n",
    "{\\rm FP} & {\\rm TP} \\\\\n",
    "\\hline\n",
    "\\end{array}\n",
    "$"
   ]
  },
  {
   "cell_type": "code",
   "execution_count": 21,
   "metadata": {},
   "outputs": [
    {
     "name": "stdout",
     "output_type": "stream",
     "text": [
      "0.0640547263682 0.132575757576\n",
      "[[763  64]\n",
      " [ 39 742]]\n",
      "[[355  62]\n",
      " [ 43 332]]\n"
     ]
    }
   ],
   "source": [
    "from sklearn.metrics import confusion_matrix\n",
    "# Ошибки на обучающей и тестовойвыборке\n",
    "print (np.mean(y != svc_model.predict(X)), np.mean(y_test != svc_model.predict(X_test)))\n",
    "print(confusion_matrix(svc_model.predict(X), y)) # confusion matrix for train sample\n",
    "print(confusion_matrix(svc_model.predict(X_test), y_test)) # confusion matrix for test sample"
   ]
  },
  {
   "cell_type": "markdown",
   "metadata": {},
   "source": [
    "# Из рассмотренных методов машина опорных векторов дает наилучший результат"
   ]
  },
  {
   "cell_type": "code",
   "execution_count": null,
   "metadata": {
    "collapsed": true
   },
   "outputs": [],
   "source": []
  }
 ],
 "metadata": {
  "kernelspec": {
   "display_name": "Python 3",
   "language": "python",
   "name": "python3"
  },
  "language_info": {
   "codemirror_mode": {
    "name": "ipython",
    "version": 3
   },
   "file_extension": ".py",
   "mimetype": "text/x-python",
   "name": "python",
   "nbconvert_exporter": "python",
   "pygments_lexer": "ipython3",
   "version": "3.6.1"
  }
 },
 "nbformat": 4,
 "nbformat_minor": 2
}
