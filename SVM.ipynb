{
 "cells": [
  {
   "cell_type": "markdown",
   "metadata": {},
   "source": [
    "# Считываем данные и рпзбиваем на тестовую и тренеровнчную выборки"
   ]
  },
  {
   "cell_type": "code",
   "execution_count": 2,
   "metadata": {
    "collapsed": true
   },
   "outputs": [],
   "source": [
    "import numpy as np\n",
    "import matplotlib.pyplot as plt\n",
    "import pandas as pd\n",
    "from sklearn.model_selection import train_test_split\n",
    "from sklearn import discriminant_analysis\n",
    "%matplotlib inline\n",
    "data = pd.read_csv('numeric sequence.csv', sep = ',', engine = 'python')\n",
    "processed_data = data\n",
    "for i in range (1, 15):\n",
    "     processed_data['feature'+str(i)] = data['feature'+str(i*2-1)]*2 + data['feature'+str(i*2)]\n",
    "to_drop=[]\n",
    "for i in range (15, 29):\n",
    "    to_drop.append('feature'+str(i)) \n",
    "processed_data = processed_data.drop(to_drop, 1).drop('label', 1)\n",
    "processed_data = processed_data.replace(0, 'A')\\\n",
    "                              .replace(1, 'T')\\\n",
    "                              .replace(2, 'C')\\\n",
    "                              .replace(3, 'G')\n",
    "processed_data = pd.get_dummies(processed_data)\n",
    "processed_data=pd.concat((processed_data, data['label']), axis = 1)\n",
    "data = processed_data\n",
    "X, X_test, y, y_test = train_test_split(data.drop('label', axis=1), data['label'], test_size = 0.33, \n",
    "                                                    random_state = 2)"
   ]
  },
  {
   "cell_type": "markdown",
   "metadata": {
    "collapsed": true
   },
   "source": [
    "# Машина опорных векторов"
   ]
  },
  {
   "cell_type": "code",
   "execution_count": 16,
   "metadata": {},
   "outputs": [
    {
     "data": {
      "text/plain": [
       "SVC(C=1, cache_size=200, class_weight=None, coef0=0.0,\n",
       "  decision_function_shape='ovr', degree=3, gamma='auto', kernel='linear',\n",
       "  max_iter=-1, probability=False, random_state=None, shrinking=True,\n",
       "  tol=0.001, verbose=False)"
      ]
     },
     "execution_count": 16,
     "metadata": {},
     "output_type": "execute_result"
    }
   ],
   "source": [
    "from sklearn.svm import SVC # \"Support Vector Classifier\"\n",
    "svc_model = SVC(kernel = 'linear', C = 1)\n",
    "svc_model.fit(X, y)"
   ]
  },
  {
   "cell_type": "code",
   "execution_count": 17,
   "metadata": {},
   "outputs": [
    {
     "name": "stdout",
     "output_type": "stream",
     "text": [
      "0.133084577114 0.15404040404\n"
     ]
    }
   ],
   "source": [
    "err_train = np.mean(y != svc_model.predict(X)) # Ошибка на обучающей выборке\n",
    "err_test = np.mean(y_test != svc_model.predict(X_test)) # Ошибка на тестовой выборке\n",
    "print (err_train, err_test)"
   ]
  },
  {
   "cell_type": "markdown",
   "metadata": {},
   "source": [
    "## Поподбираем параметры"
   ]
  },
  {
   "cell_type": "code",
   "execution_count": 24,
   "metadata": {},
   "outputs": [
    {
     "name": "stdout",
     "output_type": "stream",
     "text": [
      "0.133706467662 0.155303030303\n"
     ]
    }
   ],
   "source": [
    "svc_model = SVC(kernel = 'linear', C = 5)\n",
    "svc_model.fit(X, y)\n",
    "print (np.mean(y != svc_model.predict(X)), np.mean(y_test != svc_model.predict(X_test)))"
   ]
  },
  {
   "cell_type": "code",
   "execution_count": 21,
   "metadata": {},
   "outputs": [
    {
     "name": "stdout",
     "output_type": "stream",
     "text": [
      "0.133706467662 0.155303030303\n"
     ]
    }
   ],
   "source": [
    "svc_model = SVC(kernel = 'linear', C = 500)\n",
    "svc_model.fit(X, y)\n",
    "print (np.mean(y != svc_model.predict(X)), np.mean(y_test != svc_model.predict(X_test)))"
   ]
  },
  {
   "cell_type": "code",
   "execution_count": 25,
   "metadata": {},
   "outputs": [
    {
     "name": "stdout",
     "output_type": "stream",
     "text": [
      "0.0957711442786 0.14898989899\n"
     ]
    }
   ],
   "source": [
    "svc_model = SVC(kernel = 'rbf', C = 5)\n",
    "svc_model.fit(X, y)\n",
    "print (np.mean(y != svc_model.predict(X)), np.mean(y_test != svc_model.predict(X_test)))"
   ]
  },
  {
   "cell_type": "code",
   "execution_count": 28,
   "metadata": {},
   "outputs": [
    {
     "name": "stdout",
     "output_type": "stream",
     "text": [
      "0.0752487562189 0.152777777778\n"
     ]
    }
   ],
   "source": [
    "svc_model = SVC(kernel = 'rbf', C = 10)\n",
    "svc_model.fit(X, y)\n",
    "print (np.mean(y != svc_model.predict(X)), np.mean(y_test != svc_model.predict(X_test)))"
   ]
  },
  {
   "cell_type": "code",
   "execution_count": 29,
   "metadata": {},
   "outputs": [
    {
     "name": "stdout",
     "output_type": "stream",
     "text": [
      "0.144278606965 0.150252525253\n"
     ]
    }
   ],
   "source": [
    "svc_model = SVC(kernel = 'poly', C = 1)\n",
    "svc_model.fit(X, y)\n",
    "print (np.mean(y != svc_model.predict(X)), np.mean(y_test != svc_model.predict(X_test)))"
   ]
  },
  {
   "cell_type": "code",
   "execution_count": 33,
   "metadata": {},
   "outputs": [
    {
     "name": "stdout",
     "output_type": "stream",
     "text": [
      "0.13868159204 0.146464646465\n"
     ]
    }
   ],
   "source": [
    "svc_model = SVC(kernel = 'poly', C = 5)\n",
    "svc_model.fit(X, y)\n",
    "print (np.mean(y != svc_model.predict(X)), np.mean(y_test != svc_model.predict(X_test)))"
   ]
  },
  {
   "cell_type": "code",
   "execution_count": 34,
   "metadata": {},
   "outputs": [
    {
     "name": "stdout",
     "output_type": "stream",
     "text": [
      "0.139303482587 0.160353535354\n"
     ]
    }
   ],
   "source": [
    "svc_model = SVC(kernel = 'sigmoid', C = 1)\n",
    "svc_model.fit(X, y)\n",
    "print (np.mean(y != svc_model.predict(X)), np.mean(y_test != svc_model.predict(X_test)))"
   ]
  },
  {
   "cell_type": "code",
   "execution_count": 35,
   "metadata": {},
   "outputs": [
    {
     "name": "stdout",
     "output_type": "stream",
     "text": [
      "0.139303482587 0.151515151515\n"
     ]
    }
   ],
   "source": [
    "svc_model = SVC(kernel = 'sigmoid', C = 5)\n",
    "svc_model.fit(X, y)\n",
    "print (np.mean(y != svc_model.predict(X)), np.mean(y_test != svc_model.predict(X_test)))"
   ]
  },
  {
   "cell_type": "markdown",
   "metadata": {},
   "source": [
    "Понравился результат с полигональным ядрои и C = 5"
   ]
  },
  {
   "cell_type": "code",
   "execution_count": null,
   "metadata": {
    "collapsed": true
   },
   "outputs": [],
   "source": []
  }
 ],
 "metadata": {
  "kernelspec": {
   "display_name": "Python 3",
   "language": "python",
   "name": "python3"
  },
  "language_info": {
   "codemirror_mode": {
    "name": "ipython",
    "version": 3
   },
   "file_extension": ".py",
   "mimetype": "text/x-python",
   "name": "python",
   "nbconvert_exporter": "python",
   "pygments_lexer": "ipython3",
   "version": "3.6.1"
  }
 },
 "nbformat": 4,
 "nbformat_minor": 2
}
