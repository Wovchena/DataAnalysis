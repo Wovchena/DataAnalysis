{
 "cells": [
  {
   "cell_type": "markdown",
   "metadata": {},
   "source": [
    "# Считываем данные и рпзбиваем на тестовую и тренеровнчную выборки"
   ]
  },
  {
   "cell_type": "code",
   "execution_count": 7,
   "metadata": {
    "collapsed": true
   },
   "outputs": [],
   "source": [
    "import numpy as np\n",
    "import matplotlib.pyplot as plt\n",
    "import pandas as pd\n",
    "from sklearn.model_selection import train_test_split\n",
    "from sklearn import discriminant_analysis\n",
    "%matplotlib inline\n",
    "data = pd.read_csv('numeric sequence.csv', sep = ',', engine = 'python')\n",
    "processed_data = data\n",
    "for i in range (1, 15):\n",
    "     processed_data['feature'+str(i)] = data['feature'+str(i*2-1)]*2 + data['feature'+str(i*2)]\n",
    "to_drop=[]\n",
    "for i in range (15, 29):\n",
    "    to_drop.append('feature'+str(i)) \n",
    "processed_data = processed_data.drop(to_drop, 1).drop('label', 1)\n",
    "processed_data = processed_data.replace(0, 'A')\\\n",
    "                              .replace(1, 'T')\\\n",
    "                              .replace(2, 'C')\\\n",
    "                              .replace(3, 'G')\n",
    "processed_data = pd.get_dummies(processed_data)\n",
    "processed_data=pd.concat((processed_data, data['label']), axis = 1)\n",
    "data = processed_data\n",
    "X, X_test, y, y_test = train_test_split(data.drop('label', axis=1), data['label'], test_size = 0.33, \n",
    "                                                    random_state = 2)"
   ]
  },
  {
   "cell_type": "markdown",
   "metadata": {},
   "source": [
    "# Логистическая регрессия"
   ]
  },
  {
   "cell_type": "code",
   "execution_count": 8,
   "metadata": {},
   "outputs": [
    {
     "data": {
      "text/plain": [
       "LogisticRegression(C=1.0, class_weight=None, dual=False, fit_intercept=True,\n",
       "          intercept_scaling=1, max_iter=100, multi_class='ovr', n_jobs=1,\n",
       "          penalty='l2', random_state=None, solver='liblinear', tol=0.0001,\n",
       "          verbose=0, warm_start=False)"
      ]
     },
     "execution_count": 8,
     "metadata": {},
     "output_type": "execute_result"
    }
   ],
   "source": [
    "from sklearn.linear_model import LogisticRegression\n",
    "logistic_model = LogisticRegression(C=1.0)\n",
    "logistic_model.fit(X, y)"
   ]
  },
  {
   "cell_type": "code",
   "execution_count": 9,
   "metadata": {},
   "outputs": [
    {
     "name": "stdout",
     "output_type": "stream",
     "text": [
      "0.134328358209 0.161616161616\n"
     ]
    }
   ],
   "source": [
    "err_train = np.mean(y != logistic_model.predict(X)) # Ошибка на обучающей выборке\n",
    "err_test = np.mean(y_test != logistic_model.predict(X_test)) # Ошибка на тестовой выборке\n",
    "print (err_train, err_test)"
   ]
  },
  {
   "cell_type": "code",
   "execution_count": null,
   "metadata": {
    "collapsed": true
   },
   "outputs": [],
   "source": []
  }
 ],
 "metadata": {
  "kernelspec": {
   "display_name": "Python 3",
   "language": "python",
   "name": "python3"
  },
  "language_info": {
   "codemirror_mode": {
    "name": "ipython",
    "version": 3
   },
   "file_extension": ".py",
   "mimetype": "text/x-python",
   "name": "python",
   "nbconvert_exporter": "python",
   "pygments_lexer": "ipython3",
   "version": "3.6.1"
  }
 },
 "nbformat": 4,
 "nbformat_minor": 2
}
