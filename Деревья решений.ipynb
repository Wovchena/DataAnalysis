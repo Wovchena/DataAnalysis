{
 "cells": [
  {
   "cell_type": "code",
   "execution_count": 1,
   "metadata": {
    "collapsed": true
   },
   "outputs": [],
   "source": [
    "import numpy as np\n",
    "import matplotlib.pyplot as plt\n",
    "import pandas as pd\n",
    "from sklearn.model_selection import train_test_split\n",
    "from sklearn import discriminant_analysis\n",
    "%matplotlib inline\n",
    "data = pd.read_csv('numeric sequence.csv', sep = ',', engine = 'python')\n",
    "processed_data = data\n",
    "for i in range (1, 15):\n",
    "     processed_data['feature'+str(i)] = data['feature'+str(i*2-1)]*2 + data['feature'+str(i*2)]\n",
    "to_drop=[]\n",
    "for i in range (15, 29):\n",
    "    to_drop.append('feature'+str(i)) \n",
    "processed_data = processed_data.drop(to_drop, 1).drop('label', 1)\n",
    "processed_data = processed_data.replace(0, 'A')\\\n",
    "                              .replace(1, 'T')\\\n",
    "                              .replace(2, 'C')\\\n",
    "                              .replace(3, 'G')\n",
    "processed_data = pd.get_dummies(processed_data)\n",
    "processed_data=pd.concat((processed_data, data['label']), axis = 1)\n",
    "data = processed_data\n",
    "X, X_test, y, y_test = train_test_split(data.drop('label', axis=1), data['label'], test_size = 0.33, \n",
    "                                                    random_state = 2)"
   ]
  },
  {
   "cell_type": "markdown",
   "metadata": {},
   "source": [
    "# Деревья решений"
   ]
  },
  {
   "cell_type": "code",
   "execution_count": 8,
   "metadata": {},
   "outputs": [
    {
     "data": {
      "text/plain": [
       "{'class_weight': None,\n",
       " 'criterion': 'gini',\n",
       " 'max_depth': None,\n",
       " 'max_features': None,\n",
       " 'max_leaf_nodes': None,\n",
       " 'min_impurity_decrease': 0.0,\n",
       " 'min_impurity_split': None,\n",
       " 'min_samples_leaf': 1,\n",
       " 'min_samples_split': 2,\n",
       " 'min_weight_fraction_leaf': 0.0,\n",
       " 'presort': False,\n",
       " 'random_state': None,\n",
       " 'splitter': 'best'}"
      ]
     },
     "execution_count": 8,
     "metadata": {},
     "output_type": "execute_result"
    }
   ],
   "source": [
    "from sklearn import tree\n",
    "tree_model = tree.DecisionTreeClassifier(max_depth = None)\n",
    "tree_model.fit(X, y)\n",
    "tree_model.get_params(deep = True)"
   ]
  },
  {
   "cell_type": "code",
   "execution_count": 4,
   "metadata": {},
   "outputs": [
    {
     "name": "stdout",
     "output_type": "stream",
     "text": [
      "0.0\n",
      "0.236111111111\n"
     ]
    }
   ],
   "source": [
    "print(np.mean(tree_model.predict(X) != y))\n",
    "print(np.mean(tree_model.predict(X_test) != y_test))"
   ]
  },
  {
   "cell_type": "code",
   "execution_count": 11,
   "metadata": {},
   "outputs": [
    {
     "name": "stdout",
     "output_type": "stream",
     "text": [
      "0.238184079602\n",
      "82\n"
     ]
    }
   ],
   "source": [
    "from sklearn.model_selection import GridSearchCV\n",
    "depth_array = np.arange(1, 100)\n",
    "tree_model = tree.DecisionTreeClassifier()\n",
    "grid = GridSearchCV(tree_model, param_grid = {'max_depth': depth_array}, cv = 5)\n",
    "grid.fit(X, y)\n",
    "min_err_cv = 1 - grid.best_score_\n",
    "argmin_err_cv = grid.best_estimator_.max_depth\n",
    "print(min_err_cv)\n",
    "print(argmin_err_cv)"
   ]
  },
  {
   "cell_type": "code",
   "execution_count": null,
   "metadata": {},
   "outputs": [],
   "source": []
  },
  {
   "cell_type": "code",
   "execution_count": 96,
   "metadata": {},
   "outputs": [
    {
     "data": {
      "text/plain": [
       "<matplotlib.collections.PathCollection at 0x1fb295f1cf8>"
      ]
     },
     "execution_count": 96,
     "metadata": {},
     "output_type": "execute_result"
    },
    {
     "data": {
      "image/png": "[encoded data removed]",
      "text/plain": [
       "<matplotlib.figure.Figure at 0x1fb2958aac8>"
      ]
     },
     "metadata": {},
     "output_type": "display_data"
    }
   ],
   "source": [
    "score = 1 - np.array([i for i in grid.cv_results_['mean_test_score']])\n",
    "depth = np.array([i['max_depth'] for i in grid.cv_results_['params']])\n",
    "plt.scatter(depth, score)"
   ]
  },
  {
   "cell_type": "code",
   "execution_count": null,
   "metadata": {
    "collapsed": true
   },
   "outputs": [],
   "source": []
  },
  {
   "cell_type": "code",
   "execution_count": null,
   "metadata": {
    "collapsed": true
   },
   "outputs": [],
   "source": []
  }
 ],
 "metadata": {
  "kernelspec": {
   "display_name": "Python 3",
   "language": "python",
   "name": "python3"
  },
  "language_info": {
   "codemirror_mode": {
    "name": "ipython",
    "version": 3
   },
   "file_extension": ".py",
   "mimetype": "text/x-python",
   "name": "python",
   "nbconvert_exporter": "python",
   "pygments_lexer": "ipython3",
   "version": "3.6.1"
  }
 },
 "nbformat": 4,
 "nbformat_minor": 2
}
