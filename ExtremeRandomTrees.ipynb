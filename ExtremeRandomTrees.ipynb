{
 "cells": [
  {
   "cell_type": "code",
   "execution_count": 1,
   "metadata": {
    "collapsed": true
   },
   "outputs": [],
   "source": [
    "import numpy as np\n",
    "import matplotlib.pyplot as plt\n",
    "import pandas as pd\n",
    "from sklearn.model_selection import train_test_split\n",
    "from sklearn import discriminant_analysis\n",
    "%matplotlib inline\n",
    "data = pd.read_csv('numeric sequence.csv', sep = ',', engine = 'python')\n",
    "processed_data = data\n",
    "for i in range (1, 15):\n",
    "     processed_data['feature'+str(i)] = data['feature'+str(i*2-1)]*2 + data['feature'+str(i*2)]\n",
    "to_drop=[]\n",
    "for i in range (15, 29):\n",
    "    to_drop.append('feature'+str(i))\n",
    "processed_data = processed_data.drop(to_drop, 1).drop('label', 1)\n",
    "processed_data = processed_data.replace(0, 'A')\\\n",
    "                              .replace(1, 'T')\\\n",
    "                              .replace(2, 'C')\\\n",
    "                              .replace(3, 'G')\n",
    "processed_data = pd.get_dummies(processed_data)\n",
    "processed_data=pd.concat((processed_data, data['label']), axis = 1)\n",
    "data = processed_data\n",
    "X, X_test, y, y_test = train_test_split(data.drop('label', axis=1), data['label'], test_size = 0.1, \n",
    "                                                    random_state = 2)"
   ]
  },
  {
   "cell_type": "markdown",
   "metadata": {},
   "source": [
    "# Extremely randomized trees"
   ]
  },
  {
   "cell_type": "markdown",
   "metadata": {},
   "source": [
    "## Зависимость ошибок от количества деревьев"
   ]
  },
  {
   "cell_type": "code",
   "execution_count": 5,
   "metadata": {},
   "outputs": [
    {
     "name": "stdout",
     "output_type": "stream",
     "text": [
      "0.164179104478\n",
      "85\n"
     ]
    }
   ],
   "source": [
    "from sklearn import ensemble\n",
    "from sklearn.model_selection import GridSearchCV\n",
    "est_number = np.arange(1, 100)\n",
    "ert_model = ensemble.ExtraTreesClassifier()\n",
    "grid = GridSearchCV(ert_model, param_grid = {'n_estimators': est_number})\n",
    "grid.fit(X, y)\n",
    "min_err_cv = 1 - grid.best_score_\n",
    "argmin_err_cv = grid.best_estimator_.n_estimators\n",
    "print(min_err_cv)\n",
    "print(\"Число деревьев:\")\n",
    "print(argmin_err_cv)"
   ]
  },
  {
   "cell_type": "code",
   "execution_count": 6,
   "metadata": {},
   "outputs": [
    {
     "data": {
      "text/plain": [
       "<matplotlib.collections.PathCollection at 0x21a815565f8>"
      ]
     },
     "execution_count": 6,
     "metadata": {},
     "output_type": "execute_result"
    },
    {
     "data": {
      "image/png": "[encoded data removed]",
      "text/plain": [
       "<matplotlib.figure.Figure at 0x21a80039400>"
      ]
     },
     "metadata": {},
     "output_type": "display_data"
    }
   ],
   "source": [
    "score = 1 - np.array([i for i in grid.cv_results_['mean_test_score']])\n",
    "depth = np.array([i['n_estimators'] for i in grid.cv_results_['params']])\n",
    "plt.scatter(depth, score)"
   ]
  },
  {
   "cell_type": "code",
   "execution_count": null,
   "metadata": {
    "collapsed": true
   },
   "outputs": [],
   "source": []
  }
 ],
 "metadata": {
  "kernelspec": {
   "display_name": "Python 3",
   "language": "python",
   "name": "python3"
  },
  "language_info": {
   "codemirror_mode": {
    "name": "ipython",
    "version": 3
   },
   "file_extension": ".py",
   "mimetype": "text/x-python",
   "name": "python",
   "nbconvert_exporter": "python",
   "pygments_lexer": "ipython3",
   "version": "3.6.1"
  }
 },
 "nbformat": 4,
 "nbformat_minor": 2
}
